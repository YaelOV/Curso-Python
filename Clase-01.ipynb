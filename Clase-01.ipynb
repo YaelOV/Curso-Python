{
 "cells": [
  {
   "cell_type": "code",
   "execution_count": 1,
   "metadata": {},
   "outputs": [
    {
     "name": "stdout",
     "output_type": "stream",
     "text": [
      "hola mundo\n"
     ]
    }
   ],
   "source": [
    "print (\"hola mundo\")"
   ]
  },
  {
   "cell_type": "code",
   "execution_count": null,
   "metadata": {},
   "outputs": [],
   "source": [
    "mi_nombre = \"Osorio Vargas Yael\" \n",
    "mi_edad = 20\n",
    "mi_correo = \"yaelosorio23@aragon.unam.mx\"\n",
    "mi_altura = 1.75"
   ]
  }
 ],
 "metadata": {
  "kernelspec": {
   "display_name": "Python 3.10.7 64-bit",
   "language": "python",
   "name": "python3"
  },
  "language_info": {
   "codemirror_mode": {
    "name": "ipython",
    "version": 3
   },
   "file_extension": ".py",
   "mimetype": "text/x-python",
   "name": "python",
   "nbconvert_exporter": "python",
   "pygments_lexer": "ipython3",
   "version": "3.10.7"
  },
  "orig_nbformat": 4,
  "vscode": {
   "interpreter": {
    "hash": "67f09670d10db6c9812281e134cd5c884b98b77e840176c4be11e12839c8ac6c"
   }
  }
 },
 "nbformat": 4,
 "nbformat_minor": 2
}
