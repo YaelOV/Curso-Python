{
  "nbformat": 4,
  "nbformat_minor": 0,
  "metadata": {
    "colab": {
      "provenance": []
    },
    "kernelspec": {
      "name": "python3",
      "display_name": "Python 3"
    },
    "language_info": {
      "name": "python"
    }
  },
  "cells": [
    {
      "cell_type": "markdown",
      "metadata": {
        "id": "nCjE4hgyjNPT"
      },
      "source": [
        "# Reto 1:\n",
        "\n",
        "---\n",
        "\n"
      ]
    },
    {
      "cell_type": "markdown",
      "metadata": {
        "id": "DUu2A4GtjRV6"
      },
      "source": [
        "## Ejercicio 1: Variables"
      ]
    },
    {
      "cell_type": "markdown",
      "metadata": {
        "id": "0qc1n8-ukahY"
      },
      "source": [
        "Crea una variable llamada `titulo_libro` y asignale el libro que más te guste"
      ]
    },
    {
      "cell_type": "code",
      "metadata": {
        "id": "KJaYe7czkj6S"
      },
      "source": [
        "titulo_libro = \"batallas en el desierto\""
      ],
      "execution_count": 1,
      "outputs": []
    },
    {
      "cell_type": "markdown",
      "metadata": {
        "id": "sycdwGVhkMFA"
      },
      "source": [
        "Crea una variable llamada `numero_suerte` y asignale tu número de la suerte"
      ]
    },
    {
      "cell_type": "code",
      "metadata": {
        "id": "P32CXA2zipLd"
      },
      "source": [
        "numero_suerte = 3"
      ],
      "execution_count": 2,
      "outputs": []
    },
    {
      "cell_type": "markdown",
      "metadata": {
        "id": "8eCYlApolazY"
      },
      "source": [
        "Crea una variable llamada `suma_edades` y coloca la suma de las edades de los integrantes de equipo y al final manda a imprimir la variable con `print()`"
      ]
    },
    {
      "cell_type": "code",
      "metadata": {
        "id": "I8s2uuELmSz2",
        "colab": {
          "base_uri": "https://localhost:8080/"
        },
        "outputId": "913f0613-1a07-40a7-d4e6-115481f675ab"
      },
      "source": [
        "suma_edades = 20 + 18 + 18 \n",
        "print (suma_edades)"
      ],
      "execution_count": 4,
      "outputs": [
        {
          "output_type": "stream",
          "name": "stdout",
          "text": [
            "56\n"
          ]
        }
      ]
    },
    {
      "cell_type": "markdown",
      "metadata": {
        "id": "q3ZgvxgbmuEO"
      },
      "source": [
        "## Ejercicio 2: Suma de variables"
      ]
    },
    {
      "cell_type": "markdown",
      "metadata": {
        "id": "154gcOAonErO"
      },
      "source": [
        "Escogan 3 números aleatorioamente entre 100 y 1000 en equipo y asignenlos a `valor1`, `valor2` y `valor2`"
      ]
    },
    {
      "cell_type": "code",
      "metadata": {
        "id": "08Hx8yB6n3WM"
      },
      "source": [
        "valor1 = 150\n",
        "valor2 = 1715\n",
        "valor3 = 3333"
      ],
      "execution_count": 6,
      "outputs": []
    },
    {
      "cell_type": "markdown",
      "metadata": {
        "id": "5nTdHJsUn58G"
      },
      "source": [
        "Ahora imprimir la suma de `valor1` con `valor3`"
      ]
    },
    {
      "cell_type": "code",
      "metadata": {
        "id": "cbti4yg7oFXZ",
        "colab": {
          "base_uri": "https://localhost:8080/"
        },
        "outputId": "8f5a3137-85df-4386-eaad-0113dfe252a0"
      },
      "source": [
        "suma = valor1 + valor2\n",
        "print(suma)"
      ],
      "execution_count": 7,
      "outputs": [
        {
          "output_type": "stream",
          "name": "stdout",
          "text": [
            "1865\n"
          ]
        }
      ]
    },
    {
      "cell_type": "markdown",
      "metadata": {
        "id": "RfaCkVzDoHbg"
      },
      "source": [
        "La resta de `valor2` menos `valor3`"
      ]
    },
    {
      "cell_type": "code",
      "metadata": {
        "id": "tk-NBtb7oOsQ",
        "colab": {
          "base_uri": "https://localhost:8080/"
        },
        "outputId": "50f72d3d-0ad6-4ba9-b3da-97c9fa607801"
      },
      "source": [
        "resta = valor2 - valor3\n",
        "print (resta)"
      ],
      "execution_count": 8,
      "outputs": [
        {
          "output_type": "stream",
          "name": "stdout",
          "text": [
            "-1618\n"
          ]
        }
      ]
    },
    {
      "cell_type": "markdown",
      "metadata": {
        "id": "1Xa_RHhYoRZF"
      },
      "source": [
        "La multiplicación entre `valor1` y `valor2`"
      ]
    },
    {
      "cell_type": "code",
      "metadata": {
        "id": "YMFFApCjoX-A",
        "colab": {
          "base_uri": "https://localhost:8080/"
        },
        "outputId": "35a6562f-2350-49c2-f596-0b16f885766d"
      },
      "source": [
        "mult = (valor1 * valor2)\n",
        "print (mult)"
      ],
      "execution_count": 9,
      "outputs": [
        {
          "output_type": "stream",
          "name": "stdout",
          "text": [
            "257250\n"
          ]
        }
      ]
    },
    {
      "cell_type": "markdown",
      "metadata": {
        "id": "rkLKuewFoeit"
      },
      "source": [
        "## Ejercicio 3: Format"
      ]
    },
    {
      "cell_type": "markdown",
      "metadata": {
        "id": "Do6iGYn7o-t2"
      },
      "source": [
        "Con la variable `suma_edades` que hiciste en el Ejercicio 1, deberas meterla en un print de tal manera que salga de esta manera el mensaje:\n",
        "\n",
        "**La suma de las edades de Juan, María y Pablo es de 45 años**\n",
        "\n",
        "Cambia los nombres, por los integrantes del equipo"
      ]
    },
    {
      "cell_type": "code",
      "metadata": {
        "id": "gQv9kyymov4z",
        "colab": {
          "base_uri": "https://localhost:8080/"
        },
        "outputId": "1185364f-1dce-4e3e-90a5-d8021cf8583d"
      },
      "source": [
        "print(f'La suma de las edades de Yael, Luis y jOSÉ es de {suma_edades} años')"
      ],
      "execution_count": 10,
      "outputs": [
        {
          "output_type": "stream",
          "name": "stdout",
          "text": [
            "La suma de las edades de Yael, Luis y jOSÉ es de 56 años\n"
          ]
        }
      ]
    },
    {
      "cell_type": "markdown",
      "metadata": {
        "id": "7YoThJ5wpjZG"
      },
      "source": [
        "Crea 3 varaibles, `ancho_terreno`, `largo_terrero` y `area_terreno`. \n",
        "\n",
        "Al ancho le asignaras 25 y al largo 30\n",
        "\n",
        "Sacaras el área con la formula Ancho x Alto y lo asiganaras a `area_terreno`.\n",
        "\n",
        "Imprime un mensaje en format que se vea de la siguiente manera, utilizando las variables\n",
        "\n",
        "**El área del terreno con un ancho de 25 mts y de largo 30 mts, es de: 750 mts cuadrados**"
      ]
    },
    {
      "cell_type": "code",
      "metadata": {
        "id": "xlbWfbbEvGMH",
        "colab": {
          "base_uri": "https://localhost:8080/"
        },
        "outputId": "50211494-b6d7-4c7b-d541-dfaf1326e0a7"
      },
      "source": [
        "ancho_terreno = 25\n",
        "largo_terrero = 30\n",
        "area_terreno = ancho_terreno * largo_terrero\n",
        "print (f'El área del terreno con un ancho de {ancho_terreno} mts y de largo {largo_terrero} mts, es de: {area_terreno} mts cuadrados')"
      ],
      "execution_count": 11,
      "outputs": [
        {
          "output_type": "stream",
          "name": "stdout",
          "text": [
            "El área del terreno con un ancho de 25 mts y de largo 30 mts, es de: 750 mts cuadrados\n"
          ]
        }
      ]
    },
    {
      "cell_type": "markdown",
      "metadata": {
        "id": "my7VpwUcvp1K"
      },
      "source": [
        "## Ejercicio 4: Input"
      ]
    },
    {
      "cell_type": "markdown",
      "metadata": {
        "id": "mrZ0RxICwSsJ"
      },
      "source": [
        "Crea una variable llamada `nombre` donde le asiganaras un input que diga \"*Dame tu nombre*\".\n",
        "\n",
        "Crea una variable llamada `edad` donde le asignaras un input(dentro de un int) que diga \"*Dame tu edad*\".\n",
        "\n",
        "Manda a imprimir un format que diga:\n",
        "\n",
        "**\"Su nombre es: ____ y su edad es de ___ años\"**\n",
        "\n",
        "Todo en la misma celda"
      ]
    },
    {
      "cell_type": "code",
      "metadata": {
        "id": "hCICpOwAvruU",
        "colab": {
          "base_uri": "https://localhost:8080/"
        },
        "outputId": "7442a099-95a5-4e2d-a9b3-e6553211f7bf"
      },
      "source": [
        "nombre = input (\"Dame un nombre: \")\n",
        "edad = int(input (\"Dame tu edad\"))\n",
        "print (f'Su nombre es: {nombre} y su edad es de {edad} años ')"
      ],
      "execution_count": 17,
      "outputs": [
        {
          "output_type": "stream",
          "name": "stdout",
          "text": [
            "Dame un nombre: Luis\n",
            "Dame tu edad30\n",
            "Su nombre es: Luis y su edad es de 30 años \n"
          ]
        }
      ]
    },
    {
      "cell_type": "markdown",
      "metadata": {
        "id": "C5jtrBn7x5KE"
      },
      "source": [
        "## Extra Points"
      ]
    },
    {
      "cell_type": "markdown",
      "metadata": {
        "id": "J1CV99N7x7RB"
      },
      "source": [
        "Crea una variable llamada `total` y le asignaras un input númerico que diga \"*Dame un número*\".\n",
        "\n",
        "Crea una varaible llamada `porcentaje` y le asignaaras un input númerico que diga \"*¿Qué porcentaje quieres sacar*\"\n",
        "\n",
        "Crea una variable llamada `resultado` donde haras el calculo del porcentaje del número con las variables `total` y `porcentaje` \n",
        "\n",
        "Manda a imprimir un format que diga \n",
        "\n",
        "**El ___ % de ____ es de ____**\n",
        "\n",
        "Todo en una misma celda\n"
      ]
    },
    {
      "cell_type": "code",
      "metadata": {
        "id": "RXCty6A1x6VI",
        "colab": {
          "base_uri": "https://localhost:8080/"
        },
        "outputId": "c36f3f11-3c48-4723-a8b0-b78ae748c9b9"
      },
      "source": [
        "total = int(input (\"Dame un numero: \"))\n",
        "porcentaje = int( input(\"Que porcentaje deseas sacar: \"))\n",
        "resultado = total * (porcentaje / 100)\n",
        "print (f'El {porcentaje} % de {total} es de {resultado}')"
      ],
      "execution_count": 16,
      "outputs": [
        {
          "output_type": "stream",
          "name": "stdout",
          "text": [
            "Dame un numero: 200\n",
            "Que porcentaje deseas sacar:  33\n",
            "El 33 % de 200 es de 66.0\n"
          ]
        }
      ]
    }
  ]
}