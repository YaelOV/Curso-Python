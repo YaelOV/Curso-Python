{
  "nbformat": 4,
  "nbformat_minor": 0,
  "metadata": {
    "colab": {
      "name": "Reto3.ipynb",
      "provenance": [],
      "collapsed_sections": []
    },
    "kernelspec": {
      "name": "python3",
      "display_name": "Python 3"
    },
    "language_info": {
      "name": "python"
    }
  },
  "cells": [
    {
      "cell_type": "markdown",
      "metadata": {
        "id": "nCjE4hgyjNPT"
      },
      "source": [
        "# Reto 3:\n",
        "\n",
        "---\n",
        "\n"
      ]
    },
    {
      "cell_type": "markdown",
      "metadata": {
        "id": "DUu2A4GtjRV6"
      },
      "source": [
        "## Ejercicio 1: Listas\n"
      ]
    },
    {
      "cell_type": "markdown",
      "metadata": {
        "id": "yj8g-9_Ss5b7"
      },
      "source": [
        "Crea una lista llamada con 3 Películas favoritas y guardalas en una variable llamada `peliculas_fav` "
      ]
    },
    {
      "cell_type": "code",
      "metadata": {
        "id": "t6lSiEextER9"
      },
      "source": [
        ""
      ],
      "execution_count": null,
      "outputs": []
    },
    {
      "cell_type": "markdown",
      "metadata": {
        "id": "4BD1tn7wtJWk"
      },
      "source": [
        "Imprime la película que se encuentra en el índice 1"
      ]
    },
    {
      "cell_type": "code",
      "metadata": {
        "id": "lyTBuJAVtIZp"
      },
      "source": [
        ""
      ],
      "execution_count": null,
      "outputs": []
    },
    {
      "cell_type": "markdown",
      "metadata": {
        "id": "Bs7p5tlwtzJT"
      },
      "source": [
        "Crea 2 listas llamadas `puestos` y `sueldos`\n",
        "\n",
        "En la lista `puestos` agregaras 3 puestos de trabajo que se te ocurran\n",
        "\n",
        "En la lista `sueldos` agregaras los 3 sueldos respectivos a los puestos, esta lisata es numérica "
      ]
    },
    {
      "cell_type": "code",
      "metadata": {
        "id": "d4XPv6tPuTSy"
      },
      "source": [
        ""
      ],
      "execution_count": null,
      "outputs": []
    },
    {
      "cell_type": "markdown",
      "metadata": {
        "id": "wsretnNTuUJp"
      },
      "source": [
        "Una vez creada las 2 listas, ejecutaras la siguiente celda"
      ]
    },
    {
      "cell_type": "code",
      "metadata": {
        "id": "zw7e8XITuZO6"
      },
      "source": [
        "print(f'Trabajos: \\n')\n",
        "print(f'---------------------------------------\\n')\n",
        "print(f'{(\"Puestos\"):29} | {(\"Sueldos\"):9}')\n",
        "print(f'{puestos[0]:29} | {sueldos[0]:9}')\n",
        "print(f'{puestos[1]:29} | {sueldos[1]:9}')\n",
        "print(f'{puestos[2]:29} | {sueldos[2]:9}')"
      ],
      "execution_count": null,
      "outputs": []
    },
    {
      "cell_type": "markdown",
      "metadata": {
        "id": "q3ZgvxgbmuEO"
      },
      "source": [
        "## Ejercicio 2: Append\n"
      ]
    },
    {
      "cell_type": "markdown",
      "metadata": {
        "id": "kEGfsNR-tkLJ"
      },
      "source": [
        "Agrega una cuarta película a la variable `peliculas_fav`"
      ]
    },
    {
      "cell_type": "code",
      "metadata": {
        "id": "2gmWKLZTtn_i"
      },
      "source": [
        ""
      ],
      "execution_count": null,
      "outputs": []
    },
    {
      "cell_type": "markdown",
      "metadata": {
        "id": "T2esnRXpvW3S"
      },
      "source": [
        "A la siguiente lista vacia, agregaras 3 appends. Cada append sera un color"
      ]
    },
    {
      "cell_type": "code",
      "metadata": {
        "id": "xzxyIhWNvrvJ"
      },
      "source": [
        "colores = []\n",
        "\n",
        "colores._____\n",
        "colores._____\n",
        "colores._____"
      ],
      "execution_count": null,
      "outputs": []
    },
    {
      "cell_type": "markdown",
      "metadata": {
        "id": "xDn4DOtDvy-p"
      },
      "source": [
        "Imprime la lista `colores`"
      ]
    },
    {
      "cell_type": "code",
      "metadata": {
        "id": "T_vjXopVv2rj"
      },
      "source": [
        ""
      ],
      "execution_count": null,
      "outputs": []
    },
    {
      "cell_type": "markdown",
      "metadata": {
        "id": "rkLKuewFoeit"
      },
      "source": [
        "## Ejercicio 3: Slice"
      ]
    },
    {
      "cell_type": "markdown",
      "metadata": {
        "id": "LDUjBMwTwGa5"
      },
      "source": [
        "Tendremos una lista que contiene 6 ciudades de México (Recuerda correr la celda si no no esta ejecutada)"
      ]
    },
    {
      "cell_type": "code",
      "metadata": {
        "id": "cmDpSZmywTnY"
      },
      "source": [
        "ciudades = [\"Cancún\", \"Puerto Vallarta\", \"Guanajuato\", \"Monterrey\", \"Ciudad de México\", \"Guadalajara\"]"
      ],
      "execution_count": null,
      "outputs": []
    },
    {
      "cell_type": "markdown",
      "metadata": {
        "id": "WCpToaDtwv04"
      },
      "source": [
        "Imprime las primeras 2 ciudades con slice"
      ]
    },
    {
      "cell_type": "code",
      "metadata": {
        "id": "cr3pSZKLwzGh"
      },
      "source": [
        ""
      ],
      "execution_count": null,
      "outputs": []
    },
    {
      "cell_type": "markdown",
      "metadata": {
        "id": "I_0CmCe_wzvQ"
      },
      "source": [
        "Imprime las 2 siguientes con slice"
      ]
    },
    {
      "cell_type": "code",
      "metadata": {
        "id": "yDoM3riRw3rA"
      },
      "source": [
        ""
      ],
      "execution_count": null,
      "outputs": []
    },
    {
      "cell_type": "markdown",
      "metadata": {
        "id": "_UUPTZv7w3MA"
      },
      "source": [
        "Imprime las 4 ciudades de enmedio con slice"
      ]
    },
    {
      "cell_type": "code",
      "metadata": {
        "id": "juPipJxcw3Ag"
      },
      "source": [
        ""
      ],
      "execution_count": null,
      "outputs": []
    },
    {
      "cell_type": "markdown",
      "metadata": {
        "id": "YWIPBzCyxXMR"
      },
      "source": [
        "Imprime la ultima ciudad"
      ]
    },
    {
      "cell_type": "code",
      "metadata": {
        "id": "PsFyK1hlxZRP"
      },
      "source": [
        ""
      ],
      "execution_count": null,
      "outputs": []
    },
    {
      "cell_type": "markdown",
      "metadata": {
        "id": "dAcrVie6x4-n"
      },
      "source": [
        "## Ejercicio 4: Sort y Reverse"
      ]
    },
    {
      "cell_type": "markdown",
      "metadata": {
        "id": "WW3j8dxHx-Av"
      },
      "source": [
        "Ordena las siguies listas:"
      ]
    },
    {
      "cell_type": "code",
      "metadata": {
        "id": "EpUoYqH4x4so"
      },
      "source": [
        "numeros1 = [500,900,600,800,200,300,400]\n",
        "\n"
      ],
      "execution_count": null,
      "outputs": []
    },
    {
      "cell_type": "code",
      "metadata": {
        "id": "jspfnZcYyHf3"
      },
      "source": [
        "numeros2 = [15,48,26,35,95,75,85,96,32,65,84,96,12,35,45,48]\n",
        "\n"
      ],
      "execution_count": null,
      "outputs": []
    },
    {
      "cell_type": "markdown",
      "metadata": {
        "id": "0iTO_8aayRNY"
      },
      "source": [
        "Ordenas ls siguiente lista de forma decendente"
      ]
    },
    {
      "cell_type": "code",
      "metadata": {
        "id": "HTX1F9WMyWQA"
      },
      "source": [
        "numeros3 = [0.85, 0.69, 0.36, 0.48, 0.26, 0.78, 0.46, 0.12, 0.28]\n",
        "\n"
      ],
      "execution_count": null,
      "outputs": []
    },
    {
      "cell_type": "markdown",
      "metadata": {
        "id": "N-ZSTVI2yu3_"
      },
      "source": [
        "## Ejercicio 5: count()"
      ]
    },
    {
      "cell_type": "markdown",
      "metadata": {
        "id": "t0jfH0YkyzEH"
      },
      "source": [
        "La siguiente lista es de un niño llamado Luis, que fue agregando el color de cada coche que fue viendo en su camino"
      ]
    },
    {
      "cell_type": "code",
      "metadata": {
        "id": "NJAxB2kSzsBn"
      },
      "source": [
        "colores_coche = [\"Rojo\",\"Azul\",\"Negro\",\"Blanco\",\"Rojo\",\"Amarillo\",\"Blanco\",\"Azul\",\"Rojo\",\"Blanco\",\"Negro\",\"Rojo\",\"Blanco\",\"Azul\",\"Blanco\",\"Negro\"]"
      ],
      "execution_count": null,
      "outputs": []
    },
    {
      "cell_type": "markdown",
      "metadata": {
        "id": "-WIFNcLPz_9h"
      },
      "source": [
        "¿Cuántos coches Rojos vio?"
      ]
    },
    {
      "cell_type": "code",
      "metadata": {
        "id": "4LOuSaZv0JVv"
      },
      "source": [
        ""
      ],
      "execution_count": null,
      "outputs": []
    },
    {
      "cell_type": "markdown",
      "metadata": {
        "id": "W9BKmlrS0Jui"
      },
      "source": [
        "¿Cuántos coches Azules vio?"
      ]
    },
    {
      "cell_type": "code",
      "metadata": {
        "id": "LYtARp9x0NWw"
      },
      "source": [
        ""
      ],
      "execution_count": null,
      "outputs": []
    },
    {
      "cell_type": "markdown",
      "metadata": {
        "id": "DciZvdE40ixm"
      },
      "source": [
        "## Ejercicio 6: sum()"
      ]
    },
    {
      "cell_type": "markdown",
      "metadata": {
        "id": "7bAerdI10qQX"
      },
      "source": [
        "En una caja registradora llegaron los siguientes precios de productos: 800, 350, 450, 126, 750, 250, 40, 300, 300 \n",
        "\n",
        "Devolver el ticker con el precio total a pagar de los productos"
      ]
    },
    {
      "cell_type": "code",
      "metadata": {
        "id": "qgBSMpAo0nhm"
      },
      "source": [
        ""
      ],
      "execution_count": null,
      "outputs": []
    },
    {
      "cell_type": "markdown",
      "metadata": {
        "id": "pXJ7Vx0e1gnS"
      },
      "source": [
        "## Ejercicio 7: len()"
      ]
    },
    {
      "cell_type": "markdown",
      "metadata": {
        "id": "pPJjyIyN1lI_"
      },
      "source": [
        "¿Cuántos coches conto Luis en su camino?"
      ]
    },
    {
      "cell_type": "code",
      "metadata": {
        "id": "ELcsyLsV1pE5"
      },
      "source": [
        ""
      ],
      "execution_count": null,
      "outputs": []
    },
    {
      "cell_type": "markdown",
      "metadata": {
        "id": "6gB1mtvO10lR"
      },
      "source": [
        "## Ejercicio 8: sum() y len()"
      ]
    },
    {
      "cell_type": "markdown",
      "metadata": {
        "id": "q6M4E1hk18dn"
      },
      "source": [
        "Eligiran a un integrante del equipo y asignara a una lista llamada `calificaciones`, las ultimas calificaciones de su escuela.\n",
        "\n",
        "Imprimir el promedio"
      ]
    },
    {
      "cell_type": "code",
      "metadata": {
        "id": "Nd8MuT2C2RVu"
      },
      "source": [
        ""
      ],
      "execution_count": null,
      "outputs": []
    },
    {
      "cell_type": "markdown",
      "metadata": {
        "id": "UFfqEzo-2R5j"
      },
      "source": [
        "## Ejercicio 9: max(), min()\n",
        "Con la lista `calificaciones`, sacar la calificación máxima y la calificación mínima"
      ]
    },
    {
      "cell_type": "code",
      "metadata": {
        "id": "-UjKyIKa2wDA"
      },
      "source": [
        ""
      ],
      "execution_count": null,
      "outputs": []
    }
  ]
}